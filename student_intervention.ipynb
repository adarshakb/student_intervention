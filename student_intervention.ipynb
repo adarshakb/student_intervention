{
 "cells": [
  {
   "cell_type": "markdown",
   "metadata": {},
   "source": [
    "# Machine Learning Engineer Nanodegree\n",
    "## Supervised Learning\n",
    "## Project 2: Building a Student Intervention System"
   ]
  },
  {
   "cell_type": "markdown",
   "metadata": {},
   "source": [
    "Welcome to the second project of the Machine Learning Engineer Nanodegree! In this notebook, some template code has already been provided for you, and it will be your job to implement the additional functionality necessary to successfully complete this project. Sections that begin with **'Implementation'** in the header indicate that the following block of code will require additional functionality which you must provide. Instructions will be provided for each section and the specifics of the implementation are marked in the code block with a `'TODO'` statement. Please be sure to read the instructions carefully!\n",
    "\n",
    "In addition to implementing code, there will be questions that you must answer which relate to the project and your implementation. Each section where you will answer a question is preceded by a **'Question X'** header. Carefully read each question and provide thorough answers in the following text boxes that begin with **'Answer:'**. Your project submission will be evaluated based on your answers to each of the questions and the implementation you provide.  \n",
    "\n",
    ">**Note:** Code and Markdown cells can be executed using the **Shift + Enter** keyboard shortcut. In addition, Markdown cells can be edited by typically double-clicking the cell to enter edit mode."
   ]
  },
  {
   "cell_type": "markdown",
   "metadata": {},
   "source": [
    "### Question 1 - Classification vs. Regression\n",
    "*Your goal for this project is to identify students who might need early intervention before they fail to graduate. Which type of supervised learning problem is this, classification or regression? Why?*"
   ]
  },
  {
   "cell_type": "markdown",
   "metadata": {},
   "source": [
    "**Answer: **\n",
    "\n",
    "Classification or regression?\n",
    "\n",
    "Our goal is to \" to identify students who might need early intervention before they fail to graduate\". This means we need to divide students into 2 categories, \n",
    "\n",
    "- a) Those students at high risk of failure.\n",
    "- b) Students who are doing well in the courses.\n",
    "\n",
    "This means **it is a classification question**."
   ]
  },
  {
   "cell_type": "markdown",
   "metadata": {},
   "source": [
    "## Exploring the Data\n",
    "Run the code cell below to load necessary Python libraries and load the student data. Note that the last column from this dataset, `'passed'`, will be our target label (whether the student graduated or didn't graduate). All other columns are features about each student."
   ]
  },
  {
   "cell_type": "code",
   "execution_count": 77,
   "metadata": {
    "collapsed": false
   },
   "outputs": [
    {
     "name": "stdout",
     "output_type": "stream",
     "text": [
      "Student data read successfully!\n",
      "    school sex  age address famsize Pstatus  Medu  Fedu      Mjob      Fjob  \\\n",
      "0       GP   F   18       U     GT3       A     4     4   at_home   teacher   \n",
      "1       GP   F   17       U     GT3       T     1     1   at_home     other   \n",
      "2       GP   F   15       U     LE3       T     1     1   at_home     other   \n",
      "3       GP   F   15       U     GT3       T     4     2    health  services   \n",
      "4       GP   F   16       U     GT3       T     3     3     other     other   \n",
      "5       GP   M   16       U     LE3       T     4     3  services     other   \n",
      "6       GP   M   16       U     LE3       T     2     2     other     other   \n",
      "7       GP   F   17       U     GT3       A     4     4     other   teacher   \n",
      "8       GP   M   15       U     LE3       A     3     2  services     other   \n",
      "9       GP   M   15       U     GT3       T     3     4     other     other   \n",
      "10      GP   F   15       U     GT3       T     4     4   teacher    health   \n",
      "11      GP   F   15       U     GT3       T     2     1  services     other   \n",
      "12      GP   M   15       U     LE3       T     4     4    health  services   \n",
      "13      GP   M   15       U     GT3       T     4     3   teacher     other   \n",
      "14      GP   M   15       U     GT3       A     2     2     other     other   \n",
      "15      GP   F   16       U     GT3       T     4     4    health     other   \n",
      "16      GP   F   16       U     GT3       T     4     4  services  services   \n",
      "17      GP   F   16       U     GT3       T     3     3     other     other   \n",
      "18      GP   M   17       U     GT3       T     3     2  services  services   \n",
      "19      GP   M   16       U     LE3       T     4     3    health     other   \n",
      "20      GP   M   15       U     GT3       T     4     3   teacher     other   \n",
      "21      GP   M   15       U     GT3       T     4     4    health    health   \n",
      "22      GP   M   16       U     LE3       T     4     2   teacher     other   \n",
      "23      GP   M   16       U     LE3       T     2     2     other     other   \n",
      "24      GP   F   15       R     GT3       T     2     4  services    health   \n",
      "25      GP   F   16       U     GT3       T     2     2  services  services   \n",
      "26      GP   M   15       U     GT3       T     2     2     other     other   \n",
      "27      GP   M   15       U     GT3       T     4     2    health  services   \n",
      "28      GP   M   16       U     LE3       A     3     4  services     other   \n",
      "29      GP   M   16       U     GT3       T     4     4   teacher   teacher   \n",
      "..     ...  ..  ...     ...     ...     ...   ...   ...       ...       ...   \n",
      "365     MS   M   18       R     GT3       T     1     3   at_home     other   \n",
      "366     MS   M   18       U     LE3       T     4     4   teacher  services   \n",
      "367     MS   F   17       R     GT3       T     1     1     other  services   \n",
      "368     MS   F   18       U     GT3       T     2     3   at_home  services   \n",
      "369     MS   F   18       R     GT3       T     4     4     other   teacher   \n",
      "370     MS   F   19       U     LE3       T     3     2  services  services   \n",
      "371     MS   M   18       R     LE3       T     1     2   at_home  services   \n",
      "372     MS   F   17       U     GT3       T     2     2     other   at_home   \n",
      "373     MS   F   17       R     GT3       T     1     2     other     other   \n",
      "374     MS   F   18       R     LE3       T     4     4     other     other   \n",
      "375     MS   F   18       R     GT3       T     1     1     other     other   \n",
      "376     MS   F   20       U     GT3       T     4     2    health     other   \n",
      "377     MS   F   18       R     LE3       T     4     4   teacher  services   \n",
      "378     MS   F   18       U     GT3       T     3     3     other     other   \n",
      "379     MS   F   17       R     GT3       T     3     1   at_home     other   \n",
      "380     MS   M   18       U     GT3       T     4     4   teacher   teacher   \n",
      "381     MS   M   18       R     GT3       T     2     1     other     other   \n",
      "382     MS   M   17       U     GT3       T     2     3     other  services   \n",
      "383     MS   M   19       R     GT3       T     1     1     other  services   \n",
      "384     MS   M   18       R     GT3       T     4     2     other     other   \n",
      "385     MS   F   18       R     GT3       T     2     2   at_home     other   \n",
      "386     MS   F   18       R     GT3       T     4     4   teacher   at_home   \n",
      "387     MS   F   19       R     GT3       T     2     3  services     other   \n",
      "388     MS   F   18       U     LE3       T     3     1   teacher  services   \n",
      "389     MS   F   18       U     GT3       T     1     1     other     other   \n",
      "390     MS   M   20       U     LE3       A     2     2  services  services   \n",
      "391     MS   M   17       U     LE3       T     3     1  services  services   \n",
      "392     MS   M   21       R     GT3       T     1     1     other     other   \n",
      "393     MS   M   18       R     LE3       T     3     2  services     other   \n",
      "394     MS   M   19       U     LE3       T     1     1     other   at_home   \n",
      "\n",
      "     ...   internet romantic  famrel  freetime  goout Dalc Walc health  \\\n",
      "0    ...         no       no       4         3      4    1    1      3   \n",
      "1    ...        yes       no       5         3      3    1    1      3   \n",
      "2    ...        yes       no       4         3      2    2    3      3   \n",
      "3    ...        yes      yes       3         2      2    1    1      5   \n",
      "4    ...         no       no       4         3      2    1    2      5   \n",
      "5    ...        yes       no       5         4      2    1    2      5   \n",
      "6    ...        yes       no       4         4      4    1    1      3   \n",
      "7    ...         no       no       4         1      4    1    1      1   \n",
      "8    ...        yes       no       4         2      2    1    1      1   \n",
      "9    ...        yes       no       5         5      1    1    1      5   \n",
      "10   ...        yes       no       3         3      3    1    2      2   \n",
      "11   ...        yes       no       5         2      2    1    1      4   \n",
      "12   ...        yes       no       4         3      3    1    3      5   \n",
      "13   ...        yes       no       5         4      3    1    2      3   \n",
      "14   ...        yes      yes       4         5      2    1    1      3   \n",
      "15   ...        yes       no       4         4      4    1    2      2   \n",
      "16   ...        yes       no       3         2      3    1    2      2   \n",
      "17   ...         no       no       5         3      2    1    1      4   \n",
      "18   ...        yes       no       5         5      5    2    4      5   \n",
      "19   ...        yes       no       3         1      3    1    3      5   \n",
      "20   ...        yes       no       4         4      1    1    1      1   \n",
      "21   ...        yes       no       5         4      2    1    1      5   \n",
      "22   ...        yes       no       4         5      1    1    3      5   \n",
      "23   ...        yes       no       5         4      4    2    4      5   \n",
      "24   ...        yes       no       4         3      2    1    1      5   \n",
      "25   ...        yes       no       1         2      2    1    3      5   \n",
      "26   ...        yes       no       4         2      2    1    2      5   \n",
      "27   ...        yes       no       2         2      4    2    4      1   \n",
      "28   ...        yes       no       5         3      3    1    1      5   \n",
      "29   ...        yes      yes       4         4      5    5    5      5   \n",
      "..   ...        ...      ...     ...       ...    ...  ...  ...    ...   \n",
      "365  ...         no       no       3         3      4    2    4      3   \n",
      "366  ...        yes      yes       4         2      2    2    2      5   \n",
      "367  ...        yes      yes       5         2      1    1    2      1   \n",
      "368  ...        yes      yes       5         2      3    1    2      4   \n",
      "369  ...        yes      yes       3         2      2    4    2      5   \n",
      "370  ...         no      yes       3         2      2    1    1      3   \n",
      "371  ...        yes      yes       4         3      3    2    3      3   \n",
      "372  ...         no      yes       3         4      3    1    1      3   \n",
      "373  ...        yes       no       3         5      5    1    3      1   \n",
      "374  ...        yes       no       5         4      4    1    1      1   \n",
      "375  ...        yes       no       4         3      2    1    2      4   \n",
      "376  ...        yes      yes       5         4      3    1    1      3   \n",
      "377  ...        yes       no       5         4      3    3    4      2   \n",
      "378  ...        yes      yes       4         1      3    1    2      1   \n",
      "379  ...        yes       no       4         5      4    2    3      1   \n",
      "380  ...        yes       no       3         2      4    1    4      2   \n",
      "381  ...        yes      yes       4         4      3    1    3      5   \n",
      "382  ...        yes       no       4         4      3    1    1      3   \n",
      "383  ...         no       no       4         3      2    1    3      5   \n",
      "384  ...         no       no       5         4      3    4    3      3   \n",
      "385  ...         no       no       5         3      3    1    3      4   \n",
      "386  ...        yes      yes       4         4      3    2    2      5   \n",
      "387  ...        yes       no       5         4      2    1    2      5   \n",
      "388  ...        yes       no       4         3      4    1    1      1   \n",
      "389  ...         no       no       1         1      1    1    1      5   \n",
      "390  ...         no       no       5         5      4    4    5      4   \n",
      "391  ...        yes       no       2         4      5    3    4      2   \n",
      "392  ...         no       no       5         5      3    3    3      3   \n",
      "393  ...        yes       no       4         4      1    3    4      5   \n",
      "394  ...        yes       no       3         2      3    3    3      5   \n",
      "\n",
      "    absences passed  \n",
      "0          6     no  \n",
      "1          4     no  \n",
      "2         10    yes  \n",
      "3          2    yes  \n",
      "4          4    yes  \n",
      "5         10    yes  \n",
      "6          0    yes  \n",
      "7          6     no  \n",
      "8          0    yes  \n",
      "9          0    yes  \n",
      "10         0     no  \n",
      "11         4    yes  \n",
      "12         2    yes  \n",
      "13         2    yes  \n",
      "14         0    yes  \n",
      "15         4    yes  \n",
      "16         6    yes  \n",
      "17         4    yes  \n",
      "18        16     no  \n",
      "19         4    yes  \n",
      "20         0    yes  \n",
      "21         0    yes  \n",
      "22         2    yes  \n",
      "23         0    yes  \n",
      "24         2     no  \n",
      "25        14     no  \n",
      "26         2    yes  \n",
      "27         4    yes  \n",
      "28         4    yes  \n",
      "29        16    yes  \n",
      "..       ...    ...  \n",
      "365        4    yes  \n",
      "366        0    yes  \n",
      "367        0     no  \n",
      "368        0    yes  \n",
      "369       10    yes  \n",
      "370        4     no  \n",
      "371        3    yes  \n",
      "372        8    yes  \n",
      "373       14     no  \n",
      "374        0    yes  \n",
      "375        2    yes  \n",
      "376        4    yes  \n",
      "377        4    yes  \n",
      "378        0    yes  \n",
      "379       17    yes  \n",
      "380        4    yes  \n",
      "381        5     no  \n",
      "382        2    yes  \n",
      "383        0     no  \n",
      "384       14     no  \n",
      "385        2    yes  \n",
      "386        7     no  \n",
      "387        0     no  \n",
      "388        0     no  \n",
      "389        0     no  \n",
      "390       11     no  \n",
      "391        3    yes  \n",
      "392        3     no  \n",
      "393        0    yes  \n",
      "394        5     no  \n",
      "\n",
      "[395 rows x 31 columns]\n"
     ]
    }
   ],
   "source": [
    "# Import libraries\n",
    "import numpy as np\n",
    "import pandas as pd\n",
    "from time import time\n",
    "from sklearn.metrics import f1_score\n",
    "\n",
    "# Read student data\n",
    "student_data = pd.read_csv(\"student-data.csv\")\n",
    "print \"Student data read successfully!\"\n",
    "print student_data"
   ]
  },
  {
   "cell_type": "markdown",
   "metadata": {},
   "source": [
    "### Implementation: Data Exploration\n",
    "Let's begin by investigating the dataset to determine how many students we have information on, and learn about the graduation rate among these students. In the code cell below, you will need to compute the following:\n",
    "- The total number of students, `n_students`.\n",
    "- The total number of features for each student, `n_features`.\n",
    "- The number of those students who passed, `n_passed`.\n",
    "- The number of those students who failed, `n_failed`.\n",
    "- The graduation rate of the class, `grad_rate`, in percent (%).\n"
   ]
  },
  {
   "cell_type": "code",
   "execution_count": 78,
   "metadata": {
    "collapsed": false
   },
   "outputs": [
    {
     "name": "stdout",
     "output_type": "stream",
     "text": [
      "Total number of students: 395\n",
      "Number of features: 30\n",
      "Number of students who passed: 265\n",
      "Number of students who failed: 130\n",
      "Graduation rate of the class: 67.09%\n"
     ]
    }
   ],
   "source": [
    "# TODO: Calculate number of students\n",
    "n_students = len(student_data.index)\n",
    "\n",
    "# TODO: Calculate number of features\n",
    "n_features = student_data.shape[1] - 1 # Here its total number of columsn - 1 because last column is the prediction.\n",
    "\n",
    "# TODO: Calculate passing students\n",
    "n_passed = len(student_data[student_data.passed == 'yes'])\n",
    " \n",
    "# TODO: Calculate failing students\n",
    "n_failed = n_students - n_passed\n",
    "\n",
    "# TODO: Calculate graduation rate\n",
    "grad_rate = n_passed * 100.0 / n_students\n",
    "\n",
    "# Print the results\n",
    "print \"Total number of students: {}\".format(n_students)\n",
    "print \"Number of features: {}\".format(n_features)\n",
    "print \"Number of students who passed: {}\".format(n_passed)\n",
    "print \"Number of students who failed: {}\".format(n_failed)\n",
    "print \"Graduation rate of the class: {:.2f}%\".format(grad_rate)"
   ]
  },
  {
   "cell_type": "markdown",
   "metadata": {},
   "source": [
    "## Preparing the Data\n",
    "In this section, we will prepare the data for modeling, training and testing.\n",
    "\n",
    "### Identify feature and target columns\n",
    "It is often the case that the data you obtain contains non-numeric features. This can be a problem, as most machine learning algorithms expect numeric data to perform computations with.\n",
    "\n",
    "Run the code cell below to separate the student data into feature and target columns to see if any features are non-numeric."
   ]
  },
  {
   "cell_type": "code",
   "execution_count": 79,
   "metadata": {
    "collapsed": false
   },
   "outputs": [
    {
     "name": "stdout",
     "output_type": "stream",
     "text": [
      "Feature columns:\n",
      "['school', 'sex', 'age', 'address', 'famsize', 'Pstatus', 'Medu', 'Fedu', 'Mjob', 'Fjob', 'reason', 'guardian', 'traveltime', 'studytime', 'failures', 'schoolsup', 'famsup', 'paid', 'activities', 'nursery', 'higher', 'internet', 'romantic', 'famrel', 'freetime', 'goout', 'Dalc', 'Walc', 'health', 'absences']\n",
      "\n",
      "Target column: passed\n",
      "\n",
      "Feature values:\n",
      "  school sex  age address famsize Pstatus  Medu  Fedu     Mjob      Fjob  \\\n",
      "0     GP   F   18       U     GT3       A     4     4  at_home   teacher   \n",
      "1     GP   F   17       U     GT3       T     1     1  at_home     other   \n",
      "2     GP   F   15       U     LE3       T     1     1  at_home     other   \n",
      "3     GP   F   15       U     GT3       T     4     2   health  services   \n",
      "4     GP   F   16       U     GT3       T     3     3    other     other   \n",
      "\n",
      "    ...    higher internet  romantic  famrel  freetime goout Dalc Walc health  \\\n",
      "0   ...       yes       no        no       4         3     4    1    1      3   \n",
      "1   ...       yes      yes        no       5         3     3    1    1      3   \n",
      "2   ...       yes      yes        no       4         3     2    2    3      3   \n",
      "3   ...       yes      yes       yes       3         2     2    1    1      5   \n",
      "4   ...       yes       no        no       4         3     2    1    2      5   \n",
      "\n",
      "  absences  \n",
      "0        6  \n",
      "1        4  \n",
      "2       10  \n",
      "3        2  \n",
      "4        4  \n",
      "\n",
      "[5 rows x 30 columns]\n"
     ]
    }
   ],
   "source": [
    "# Extract feature columns\n",
    "feature_cols = list(student_data.columns[:-1])\n",
    "\n",
    "# Extract target column 'passed'\n",
    "target_col = student_data.columns[-1] \n",
    "\n",
    "# Show the list of columns\n",
    "print \"Feature columns:\\n{}\".format(feature_cols)\n",
    "print \"\\nTarget column: {}\".format(target_col)\n",
    "\n",
    "# Separate the data into feature data and target data (X_all and y_all, respectively)\n",
    "X_all = student_data[feature_cols]\n",
    "y_all = student_data[target_col]\n",
    "\n",
    "# Show the feature information by printing the first five rows\n",
    "print \"\\nFeature values:\"\n",
    "print X_all.head()"
   ]
  },
  {
   "cell_type": "markdown",
   "metadata": {},
   "source": [
    "### Preprocess Feature Columns\n",
    "\n",
    "As you can see, there are several non-numeric columns that need to be converted! Many of them are simply `yes`/`no`, e.g. `internet`. These can be reasonably converted into `1`/`0` (binary) values.\n",
    "\n",
    "Other columns, like `Mjob` and `Fjob`, have more than two values, and are known as _categorical variables_. The recommended way to handle such a column is to create as many columns as possible values (e.g. `Fjob_teacher`, `Fjob_other`, `Fjob_services`, etc.), and assign a `1` to one of them and `0` to all others.\n",
    "\n",
    "These generated columns are sometimes called _dummy variables_, and we will use the [`pandas.get_dummies()`](http://pandas.pydata.org/pandas-docs/stable/generated/pandas.get_dummies.html?highlight=get_dummies#pandas.get_dummies) function to perform this transformation. Run the code cell below to perform the preprocessing routine discussed in this section."
   ]
  },
  {
   "cell_type": "code",
   "execution_count": 80,
   "metadata": {
    "collapsed": false
   },
   "outputs": [
    {
     "name": "stdout",
     "output_type": "stream",
     "text": [
      "Processed feature columns (48 total features):\n",
      "['school_GP', 'school_MS', 'sex_F', 'sex_M', 'age', 'address_R', 'address_U', 'famsize_GT3', 'famsize_LE3', 'Pstatus_A', 'Pstatus_T', 'Medu', 'Fedu', 'Mjob_at_home', 'Mjob_health', 'Mjob_other', 'Mjob_services', 'Mjob_teacher', 'Fjob_at_home', 'Fjob_health', 'Fjob_other', 'Fjob_services', 'Fjob_teacher', 'reason_course', 'reason_home', 'reason_other', 'reason_reputation', 'guardian_father', 'guardian_mother', 'guardian_other', 'traveltime', 'studytime', 'failures', 'schoolsup', 'famsup', 'paid', 'activities', 'nursery', 'higher', 'internet', 'romantic', 'famrel', 'freetime', 'goout', 'Dalc', 'Walc', 'health', 'absences']\n"
     ]
    }
   ],
   "source": [
    "def preprocess_features(X):\n",
    "    ''' Preprocesses the student data and converts non-numeric binary variables into\n",
    "        binary (0/1) variables. Converts categorical variables into dummy variables. '''\n",
    "    \n",
    "    # Initialize new output DataFrame\n",
    "    output = pd.DataFrame(index = X.index)\n",
    "\n",
    "    # Investigate each feature column for the data\n",
    "    for col, col_data in X.iteritems():\n",
    "        \n",
    "        # If data type is non-numeric, replace all yes/no values with 1/0\n",
    "        if col_data.dtype == object:\n",
    "            col_data = col_data.replace(['yes', 'no'], [1, 0])\n",
    "\n",
    "        # If data type is categorical, convert to dummy variables\n",
    "        if col_data.dtype == object:\n",
    "            # Example: 'school' => 'school_GP' and 'school_MS'\n",
    "            col_data = pd.get_dummies(col_data, prefix = col)  \n",
    "        \n",
    "        # Collect the revised columns\n",
    "        output = output.join(col_data)\n",
    "    \n",
    "    return output\n",
    "\n",
    "X_all = preprocess_features(X_all)\n",
    "print \"Processed feature columns ({} total features):\\n{}\".format(len(X_all.columns), list(X_all.columns))"
   ]
  },
  {
   "cell_type": "markdown",
   "metadata": {},
   "source": [
    "### Implementation: Training and Testing Data Split\n",
    "So far, we have converted all _categorical_ features into numeric values. For the next step, we split the data (both features and corresponding labels) into training and test sets. In the following code cell below, you will need to implement the following:\n",
    "- Randomly shuffle and split the data (`X_all`, `y_all`) into training and testing subsets.\n",
    "  - Use 300 training points (approximately 75%) and 95 testing points (approximately 25%).\n",
    "  - Set a `random_state` for the function(s) you use, if provided.\n",
    "  - Store the results in `X_train`, `X_test`, `y_train`, and `y_test`."
   ]
  },
  {
   "cell_type": "code",
   "execution_count": 81,
   "metadata": {
    "collapsed": false
   },
   "outputs": [
    {
     "name": "stdout",
     "output_type": "stream",
     "text": [
      "Training set has 300 samples.\n",
      "Testing set has 95 samples.\n"
     ]
    }
   ],
   "source": [
    "# TODO: Import any additional functionality you may need here\n",
    "import sklearn.cross_validation as cv\n",
    "# TODO: Set the number of training points\n",
    "num_train = 300\n",
    "\n",
    "# Set the number of testing points\n",
    "num_test = X_all.shape[0] - num_train\n",
    "\n",
    "# TODO: Shuffle and split the dataset into the number of training and testing points above\n",
    "X_train, X_test, y_train, y_test = cv.train_test_split(X_all, y_all,stratify=y_all,train_size=num_train,random_state=42)\n",
    "\n",
    "# Show the results of the split\n",
    "print \"Training set has {} samples.\".format(X_train.shape[0])\n",
    "print \"Testing set has {} samples.\".format(X_test.shape[0])"
   ]
  },
  {
   "cell_type": "markdown",
   "metadata": {},
   "source": [
    "## Training and Evaluating Models\n",
    "In this section, you will choose 3 supervised learning models that are appropriate for this problem and available in `scikit-learn`. You will first discuss the reasoning behind choosing these three models by considering what you know about the data and each model's strengths and weaknesses. You will then fit the model to varying sizes of training data (100 data points, 200 data points, and 300 data points) and measure the F<sub>1</sub> score. You will need to produce three tables (one for each model) that shows the training set size, training time, prediction time, F<sub>1</sub> score on the training set, and F<sub>1</sub> score on the testing set.\n",
    "\n",
    "**The following supervised learning models are currently available in** [`scikit-learn`](http://scikit-learn.org/stable/supervised_learning.html) **that you may choose from:**\n",
    "- Gaussian Naive Bayes (GaussianNB)\n",
    "- Decision Trees\n",
    "- Ensemble Methods (Bagging, AdaBoost, Random Forest, Gradient Boosting)\n",
    "- K-Nearest Neighbors (KNeighbors)\n",
    "- Stochastic Gradient Descent (SGDC)\n",
    "- Support Vector Machines (SVM)\n",
    "- Logistic Regression"
   ]
  },
  {
   "cell_type": "markdown",
   "metadata": {},
   "source": [
    "### Question 2 - Model Application\n",
    "*List three supervised learning models that are appropriate for this problem. For each model chosen*\n",
    "- Describe one real-world application in industry where the model can be applied. *(You may need to do a small bit of research for this — give references!)* \n",
    "- What are the strengths of the model; when does it perform well? \n",
    "- What are the weaknesses of the model; when does it perform poorly?\n",
    "- What makes this model a good candidate for the problem, given what you know about the data?"
   ]
  },
  {
   "cell_type": "markdown",
   "metadata": {},
   "source": [
    "**Answer: **\n",
    "\n",
    "Three supervised learning models that are appropriate for this problem.\n",
    "\n",
    "- Decision Trees\n",
    "    - Real-world application: Researching about this topic i found many real world applications. The most interesting was how it was applied in Astronomy where it was used to classify star galactic formations from the data sent by probes. I would imagine that there are many types of variables in classifying a Star or Galaxy based on many different attributes, and a trained classifier can label them with good accuracy as there are billions of star out there and its difficult to classify manually.\n",
    "    - Strengths\n",
    "        - Expressiveness of DT - After forming a good model, if we look (i.e in the form of graphs) at decision trees, we can gain deeper insights into the problem.\n",
    "        - Maximizes information gain. - Decision trees always maximizes information gain and shortest trees. Thus it self corrects itself to have less overfitting.\n",
    "        - They can get highly accurate in classification especially when there are binary variables involved.\n",
    "    - Weaknesses\n",
    "        - ID3 Bias. Restriction biases. We only consider those functions which are represented by a decision tree. This means that it only tries to maximize information gain and other types of functions are left out (like differential functions)\n",
    "        - Overfitting - A decision tree with large number of levels is prone to overfit and gets complicated. As the depth increases, the complexity grows exponentially. We should be careful to avoid overfitting of train set and prune the tree at the correct location.\n",
    "    - Why is this a good model for the problem: \n",
    "        - This is a good model because there are over 30 features in the input data, and all of them might not be useful. Decision trees automatically select the features with the highest information gain the begining and thus filter out lot of unnecessary noise.\n",
    "\n",
    "- K-Nearest Neighbors  (GaussianNB)\n",
    "    - Real-world application: It has been used in ecnomic forcasting to predict how well a product might fit into a given geographical area. It is also used in housing prices prediction and classification of neighbourhoods.\n",
    "    - Strengths\n",
    "        - It is easy to understand model with many ways to tune it (the distance function, weights, depth, K val etc)\n",
    "        - It is good if training data is large. \n",
    "        It is robust in noisy data if we tune the distance function to be inverse square of weighted distances\n",
    "    - Weaknesses\n",
    "        - Need to determine the value of k. It can be anything\n",
    "        - Need to define the TYPE of distance. Not all problems can have a \"distance\" between them\n",
    "        - High computation cost to determine the distance on each query on multiple training samples.\n",
    "    - Why is this a good model for the problem:\n",
    "        - This algorithm may work well in our case because if a students share many of the attributes (i.e distance between them is low), then there is higher chance they are similar. i.e if many students who have been underperforming in test scores fail, a new student who underperforms in test score will need attention in real world as the student has more chance of failure.\n",
    "\n",
    "- Ensamble: Gradient Boosting\n",
    "    - Real-world application: Ensable methods in gradient boosing's idea is used in many places and other algorithms too like random forest. One application is spam classification of emails. The classifier is used along with other models. The advantage of this classifier is that it does not overfit the data too much and thus it is hard for someone who is trying to hack a spam classifier to control predictions.\n",
    "    - Strengths\n",
    "        - Falls into the ensamble class forming weak classifies (always better than chance prediction p >0.5)\n",
    "        - This method works really well as it picks out outliers and learns from them\n",
    "        - This is effective because the error rate of training and test sets seems to always decrease!\n",
    "        - larger margins are produced which means that in further iterations the confidence in prediction increases.\n",
    "    - Weaknesses\n",
    "        - This is a slow algorithm. especially when going through multiple iterations producing many weaklearners. \n",
    "    - Why is this a good model for the problem: \n",
    "        - This is an ensable methods where with more data and training the prediction is seen to improve more. Thus using this will give a good userstanding to us"
   ]
  },
  {
   "cell_type": "markdown",
   "metadata": {},
   "source": [
    "### Setup\n",
    "Run the code cell below to initialize three helper functions which you can use for training and testing the three supervised learning models you've chosen above. The functions are as follows:\n",
    "- `train_classifier` - takes as input a classifier and training data and fits the classifier to the data.\n",
    "- `predict_labels` - takes as input a fit classifier, features, and a target labeling and makes predictions using the F<sub>1</sub> score.\n",
    "- `train_predict` - takes as input a classifier, and the training and testing data, and performs `train_clasifier` and `predict_labels`.\n",
    " - This function will report the F<sub>1</sub> score for both the training and testing data separately."
   ]
  },
  {
   "cell_type": "code",
   "execution_count": 82,
   "metadata": {
    "collapsed": false
   },
   "outputs": [],
   "source": [
    "def train_classifier(clf, X_train, y_train):\n",
    "    ''' Fits a classifier to the training data. '''\n",
    "    \n",
    "    # Start the clock, train the classifier, then stop the clock\n",
    "    start = time()\n",
    "    clf.fit(X_train, y_train)\n",
    "    end = time()\n",
    "    \n",
    "    # Print the results\n",
    "    print \"Trained model in {:.4f} seconds\".format(end - start)\n",
    "\n",
    "    \n",
    "def predict_labels(clf, features, target):\n",
    "    ''' Makes predictions using a fit classifier based on F1 score. '''\n",
    "    \n",
    "    # Start the clock, make predictions, then stop the clock\n",
    "    start = time()\n",
    "    y_pred = clf.predict(features)\n",
    "    end = time()\n",
    "    \n",
    "    # Print and return results\n",
    "    print \"Made predictions in {:.4f} seconds.\".format(end - start)\n",
    "    return f1_score(target.values, y_pred, pos_label='yes')\n",
    "\n",
    "\n",
    "def train_predict(clf, X_train, y_train, X_test, y_test):\n",
    "    ''' Train and predict using a classifer based on F1 score. '''\n",
    "    \n",
    "    # Indicate the classifier and the training set size\n",
    "    print \"Training a {} using a training set size of {}. . .\".format(clf.__class__.__name__, len(X_train))\n",
    "    \n",
    "    # Train the classifier\n",
    "    train_classifier(clf, X_train, y_train)\n",
    "    \n",
    "    # Print the results of prediction for both training and testing\n",
    "    print \"F1 score for training set: {:.4f}.\".format(predict_labels(clf, X_train, y_train))\n",
    "    print \"F1 score for test set: {:.4f}.\".format(predict_labels(clf, X_test, y_test))"
   ]
  },
  {
   "cell_type": "markdown",
   "metadata": {},
   "source": [
    "### Implementation: Model Performance Metrics\n",
    "With the predefined functions above, you will now import the three supervised learning models of your choice and run the `train_predict` function for each one. Remember that you will need to train and predict on each classifier for three different training set sizes: 100, 200, and 300. Hence, you should expect to have 9 different outputs below — 3 for each model using the varying training set sizes. In the following code cell, you will need to implement the following:\n",
    "- Import the three supervised learning models you've discussed in the previous section.\n",
    "- Initialize the three models and store them in `clf_A`, `clf_B`, and `clf_C`.\n",
    " - Use a `random_state` for each model you use, if provided.\n",
    " - **Note:** Use the default settings for each model — you will tune one specific model in a later section.\n",
    "- Create the different training set sizes to be used to train each model.\n",
    " - *Do not reshuffle and resplit the data! The new training points should be drawn from `X_train` and `y_train`.*\n",
    "- Fit each model with each training set size and make predictions on the test set (9 in total).  \n",
    "**Note:** Three tables are provided after the following code cell which can be used to store your results."
   ]
  },
  {
   "cell_type": "code",
   "execution_count": 83,
   "metadata": {
    "collapsed": false
   },
   "outputs": [
    {
     "name": "stdout",
     "output_type": "stream",
     "text": [
      "\n",
      "Training \n",
      "Training a DecisionTreeClassifier using a training set size of 100. . .\n",
      "Trained model in 0.0010 seconds\n",
      "Made predictions in 0.0002 seconds.\n",
      "F1 score for training set: 1.0000.\n",
      "Made predictions in 0.0003 seconds.\n",
      "F1 score for test set: 0.6452.\n",
      "Training a DecisionTreeClassifier using a training set size of 200. . .\n",
      "Trained model in 0.0011 seconds\n",
      "Made predictions in 0.0001 seconds.\n",
      "F1 score for training set: 1.0000.\n",
      "Made predictions in 0.0001 seconds.\n",
      "F1 score for test set: 0.7258.\n",
      "Training a DecisionTreeClassifier using a training set size of 300. . .\n",
      "Trained model in 0.0015 seconds\n",
      "Made predictions in 0.0002 seconds.\n",
      "F1 score for training set: 1.0000.\n",
      "Made predictions in 0.0001 seconds.\n",
      "F1 score for test set: 0.6838.\n",
      "\n",
      "Training \n",
      "Training a KNeighborsClassifier using a training set size of 100. . .\n",
      "Trained model in 0.0004 seconds\n",
      "Made predictions in 0.0009 seconds.\n",
      "F1 score for training set: 0.8252.\n",
      "Made predictions in 0.0008 seconds.\n",
      "F1 score for test set: 0.7586.\n",
      "Training a KNeighborsClassifier using a training set size of 200. . .\n",
      "Trained model in 0.0004 seconds\n",
      "Made predictions in 0.0022 seconds.\n",
      "F1 score for training set: 0.8097.\n",
      "Made predictions in 0.0011 seconds.\n",
      "F1 score for test set: 0.7857.\n",
      "Training a KNeighborsClassifier using a training set size of 300. . .\n",
      "Trained model in 0.0006 seconds\n",
      "Made predictions in 0.0041 seconds.\n",
      "F1 score for training set: 0.8539.\n",
      "Made predictions in 0.0015 seconds.\n",
      "F1 score for test set: 0.8138.\n",
      "\n",
      "Training \n",
      "Training a GradientBoostingClassifier using a training set size of 100. . .\n",
      "Trained model in 0.0365 seconds\n",
      "Made predictions in 0.0004 seconds.\n",
      "F1 score for training set: 1.0000.\n",
      "Made predictions in 0.0003 seconds.\n",
      "F1 score for test set: 0.7500.\n",
      "Training a GradientBoostingClassifier using a training set size of 200. . .\n",
      "Trained model in 0.0485 seconds\n",
      "Made predictions in 0.0005 seconds.\n",
      "F1 score for training set: 0.9924.\n",
      "Made predictions in 0.0003 seconds.\n",
      "F1 score for test set: 0.7313.\n",
      "Training a GradientBoostingClassifier using a training set size of 300. . .\n",
      "Trained model in 0.0621 seconds\n",
      "Made predictions in 0.0007 seconds.\n",
      "F1 score for training set: 0.9781.\n",
      "Made predictions in 0.0003 seconds.\n",
      "F1 score for test set: 0.7463.\n"
     ]
    },
    {
     "data": {
      "image/png": "[encoded data removed]",
      "text/plain": [
       "<matplotlib.figure.Figure at 0x10fe14c10>"
      ]
     },
     "metadata": {},
     "output_type": "display_data"
    }
   ],
   "source": [
    "# TODO: Import the three supervised learning models from sklearn\n",
    "from sklearn import tree\n",
    "from sklearn.neighbors import KNeighborsClassifier\n",
    "from sklearn import ensemble\n",
    "\n",
    "# TODO: Initialize the three models\n",
    "clf_A = tree.DecisionTreeClassifier(random_state=42)\n",
    "clf_B = KNeighborsClassifier()\n",
    "clf_C = ensemble.GradientBoostingClassifier(random_state=42)\n",
    "\n",
    "# TODO: Set up the training set sizes\n",
    "# not needed\n",
    "\n",
    "# TODO: Execute the 'train_predict' function for each classifier and each training set size\n",
    "\n",
    "for clf in [clf_A,clf_B,clf_C]:\n",
    "    print \"\\nTraining \".format(clf.__class__.__name__)\n",
    "    for n in [100,200,300]:\n",
    "        train_predict(clf, X_train[:n], y_train[:n], X_test, y_test)\n",
    "        \n",
    "def confusionMatrix(model):\n",
    "    from sklearn.metrics import confusion_matrix\n",
    "    import seaborn as sns\n",
    "    import matplotlib.pyplot as plt\n",
    "    %matplotlib inline\n",
    "\n",
    "    # Compute confusion matrix for a model\n",
    "    cm = confusion_matrix(y_test.values, model.predict(X_test))\n",
    "\n",
    "    # view with a heatmap\n",
    "    sns.heatmap(cm, annot=True, cmap='Blues', xticklabels=['no', 'yes'], yticklabels=['no', 'yes'])\n",
    "    plt.ylabel('True label')\n",
    "    plt.xlabel('Predicted label')\n",
    "    plt.title('Confusion matrix for:\\n{}'.format(model.__class__.__name__));\n",
    "\n",
    "#draw confusion matrix for best model\n",
    "confusionMatrix(clf_B)\n"
   ]
  },
  {
   "cell_type": "markdown",
   "metadata": {},
   "source": [
    "### Tabular Results\n",
    "Edit the cell below to see how a table can be designed in [Markdown](https://github.com/adam-p/markdown-here/wiki/Markdown-Cheatsheet#tables). You can record your results from above in the tables provided."
   ]
  },
  {
   "cell_type": "markdown",
   "metadata": {},
   "source": [
    "** Classifer 1 - DecisionTreeClassifier**  \n",
    "\n",
    "| Training Set Size | Training Time | Prediction Time (test) | F1 Score (train) | F1 Score (test) |\n",
    "| :---------------: | :---------------------: | :--------------------: | :--------------: | :-------------: |\n",
    "| 100               |      0.0010             |       0.0004       |    1.0000         |    0.6452       |\n",
    "| 200               |        0.0015          |         0.0001         |   1.0000       |    0.7258        |\n",
    "| 300               |       0.0017            |        0.0001        |  1.0000         |    0.6838      |\n",
    "\n",
    "** Classifer 2 - K nearest neighbours**  \n",
    "\n",
    "| Training Set Size | Training Time | Prediction Time (test) | F1 Score (train) | F1 Score (test) |\n",
    "| :---------------: | :---------------------: | :--------------------: | :--------------: | :-------------: |\n",
    "| 100               |     0.0004            |          0.0008        |     0.8252      |   0.7586       |\n",
    "| 200               |     0.0005             |       0.0012         |      0.8097      |    0.7857      |\n",
    "| 300               |       0.0006            |     0.0016           |    0.8538       |     0.8138     |\n",
    "\n",
    "** Classifer 3 - Ensemble gradient boosting**  \n",
    "\n",
    "| Training Set Size | Training Time | Prediction Time (test) | F1 Score (train) | F1 Score (test) |\n",
    "| :---------------: | :---------------------: | :--------------------: | :--------------: | :-------------: |\n",
    "| 100               |      0.0401            |        0.0004         |     1.0000      |     0.7500     |\n",
    "| 200               |      0.0492           |         0.0003        |      0.9924     |      0.7313     |\n",
    "| 300               |      0.0623           |         0.0007       |    0.9781        |     0.7463      |"
   ]
  },
  {
   "cell_type": "markdown",
   "metadata": {},
   "source": [
    "## Choosing the Best Model\n",
    "In this final section, you will choose from the three supervised learning models the *best* model to use on the student data. You will then perform a grid search optimization for the model over the entire training set (`X_train` and `y_train`) by tuning at least one parameter to improve upon the untuned model's F<sub>1</sub> score. "
   ]
  },
  {
   "cell_type": "markdown",
   "metadata": {},
   "source": [
    "### Question 3 - Choosing the Best Model\n",
    "*Based on the experiments you performed earlier, in one to two paragraphs, explain to the board of supervisors what single model you chose as the best model. Which model is generally the most appropriate based on the available data, limited resources, cost, and performance?*"
   ]
  },
  {
   "cell_type": "markdown",
   "metadata": {},
   "source": [
    "**Answer: **\n",
    "\n",
    "Out of the above 3 algorithms we can eliminate using a DecisionTreeClassifier (using default parameters as indicated in question) because it performs worse in all aspects.\n",
    "\n",
    "The choice is between K nearest neighbours and Ensemble gradient boosing.\n",
    "\n",
    "Comparision\n",
    "\n",
    "| K nearest neighbours(KNN) | Ensemble gradient boosting |\n",
    "| :---------------: | :---------------------: |\n",
    "| Training time faster               |     Training time slower            |\n",
    "| Prediction time is 2x slow | Prediction time Fastest |\n",
    "| F1 test score highest at **0.81 highest** | F1 test score highest with 0.75\n",
    "\n",
    "I go with **K nearest neighbours**. The reason is because\n",
    "\n",
    "- The training time is lower but the prediction time is higher. This helps for a fast training is done one time only. But the prediction time is only linearly lower\n",
    "- This model always performs better in all the training set sizes.\n",
    "- This makes more intutive sense because k-nearest algorithm captures similarity distance and similar students group would perform same way in real-world\n",
    "\n",
    "**Another important point** - After drawing confusition matrix it appears the the most dangerous part in our algorithm is to predict a student doent *not* need attention while in reality the student needs. i.e P(false) while actual is true. This is dangerous because the student will fail and we didnt provide extra attention. However providing extra attention to passing students is not a problem as it will only help them.\n",
    "\n",
    "This is least in KNN (5 students) and thus another plus point"
   ]
  },
  {
   "cell_type": "markdown",
   "metadata": {},
   "source": [
    "### Question 4 - Model in Layman's Terms\n",
    "*In one to two paragraphs, explain to the board of directors in layman's terms how the final model chosen is supposed to work. Be sure that you are describing the major qualities of the model, such as how the model is trained and how the model makes a prediction. Avoid using advanced mathematical or technical jargon, such as describing equations or discussing the algorithm implementation.*"
   ]
  },
  {
   "cell_type": "markdown",
   "metadata": {},
   "source": [
    "# **Answer: **\n",
    "\n",
    "~~Ensable learners use the concept of \"weak learners\" where in the simple rule is to find a prediction at each stage which has a accuracy better than chance i.e p > 0.5. This is very simple concept but when it is iterated over several of the parameters it produces a powerful classifier. In the training stage we take known data with known labels and produce a hypothesis which gives us p>0.5, then we repeat it for several iteration. Then finally we combine the models  individually according to thier weights and produce a final model.~~\n",
    "\n",
    "~~**UPDATE 1:**~~\n",
    "\n",
    "~~Ensemble gradient boosing algorithms work on a simple concept that the prediction at each stage is *slightly better than chance*. The algorithm works as follows~~\n",
    "\n",
    "~~concepts:~~\n",
    "- ~~Ensemble learners: a collection of models which predict a certain part of the data~~\n",
    "- ~~weak learners: A model who's prediction accuracy is >50%~~\n",
    "\n",
    "~~Algorithm~~\n",
    "\n",
    "~~0. initialize each data with equal weights~~\n",
    "~~1. construct a (weak)model which is better than chance.~~\n",
    "~~2. Increase the weights for those data which predictions went wrong.~~\n",
    "~~3. Train next model using samples drawn according to updated weight distribution. repeat from steps 1,2,3 untill we are satisfied with final prediction.~~\n",
    "~~4. we can combine the hypothesis at last bsaed on weights on how many dataset it got right\n",
    "\n",
    "\n",
    "~~In this way the algorithm learns models for data which are \"hard\" to learn and thus the ensemble of these models produces a good model which is good a learning different parts of the data.~~\n",
    "\n",
    "~~**explanation interms of school data** - Imagine a set of features could explain correctly >50% of the time if student passes or fails. Now the algoritmn will increase weights on those students which it missed in prediction. Then we build another model which describese these outlier students. repeating the above steps produces a robust algorithm which can predict different types of students who are prone to failure.~~\n",
    "\n",
    "\n",
    "# Update 2:\n",
    "\n",
    "After implementing the sugession to split the train-test split evenly, I see that K-nearest neighbour is better prediction algorithm.\n",
    "\n",
    "K-nearest neighbours(KNN), it is a classification or regression technique. KNN for our case is a classification with output a class membership of student being pass being \"yes\" or \"no\". The KNN is a lazy algorithm where function is only approximated locally and all computations is deferred untill classification.\n",
    "\n",
    "In KNN we define a *distance function* which produces a output of distance between 2 data points. This can be many times of functions from simple cartition coordinate distance to a specialized function which is domain specific such as driving distance in case of a housing example.\n",
    "\n",
    "Given a new training example, KNN performs as follows.\n",
    "\n",
    "1. Finds K nearest neighbours through the *distance function*\n",
    "2. using the known class of these K nearest neighbours calculate the predicted class of the New training example. This can be done in many ways (weighted avg, log func, inverse exponential functions, custom functions etc).\n",
    "\n",
    "**explanation in-terms of school data** The algorithm tries to group together similar students who are \"close\" to each other. In this case close can be defined as a simple subtraction because we used *pandas.get_dummy()* when we converted these *categorical* datas into differnt columns. Thus the difference captures the differences correctly as it is a binary variable.\n",
    "\n",
    "Intutively, students with similar charecteristics tend to either pass or fail. i.e if a student has failed in many of the subjects he/she is more prone to fail at the end and vice-versa."
   ]
  },
  {
   "cell_type": "markdown",
   "metadata": {},
   "source": [
    "### Implementation: Model Tuning\n",
    "Fine tune the chosen model. Use grid search (`GridSearchCV`) with at least one important parameter tuned with at least 3 different values. You will need to use the entire training set for this. In the code cell below, you will need to implement the following:\n",
    "- Import [`sklearn.grid_search.gridSearchCV`](http://scikit-learn.org/stable/modules/generated/sklearn.grid_search.GridSearchCV.html) and [`sklearn.metrics.make_scorer`](http://scikit-learn.org/stable/modules/generated/sklearn.metrics.make_scorer.html).\n",
    "- Create a dictionary of parameters you wish to tune for the chosen model.\n",
    " - Example: `parameters = {'parameter' : [list of values]}`.\n",
    "- Initialize the classifier you've chosen and store it in `clf`.\n",
    "- Create the F<sub>1</sub> scoring function using `make_scorer` and store it in `f1_scorer`.\n",
    " - Set the `pos_label` parameter to the correct value!\n",
    "- Perform grid search on the classifier `clf` using `f1_scorer` as the scoring method, and store it in `grid_obj`.\n",
    "- Fit the grid search object to the training data (`X_train`, `y_train`), and store it in `grid_obj`."
   ]
  },
  {
   "cell_type": "code",
   "execution_count": 84,
   "metadata": {
    "collapsed": false
   },
   "outputs": [
    {
     "name": "stdout",
     "output_type": "stream",
     "text": [
      "Made predictions in 0.0075 seconds.\n",
      "Tuned model has a training F1 score of 0.8539.\n",
      "Made predictions in 0.0027 seconds.\n",
      "Tuned model has a testing F1 score of 0.8138.\n"
     ]
    }
   ],
   "source": [
    "# TODO: Import 'GridSearchCV' and 'make_scorer'\n",
    "from sklearn import grid_search\n",
    "from sklearn.metrics import make_scorer,fbeta_score\n",
    "from sklearn.neighbors import DistanceMetric\n",
    "# TODO: Create the parameters list you wish to tune\n",
    "parameters = {\n",
    "                'weights' : ['uniform','distance'],\n",
    "                'leaf_size' : [5,15,30,45]\n",
    "             }\n",
    "\n",
    "# TODO: Initialize the classifier\n",
    "clf = KNeighborsClassifier()\n",
    "\n",
    "# TODO: Make an f1 scoring function using 'make_scorer' \n",
    "f1_scorer = make_scorer(f1_score,pos_label='yes')\n",
    "\n",
    "# TODO: Perform grid search on the classifier using the f1_scorer as the scoring method\n",
    "grid_obj = grid_search.GridSearchCV(clf,parameters)\n",
    "\n",
    "# TODO: Fit the grid search object to the training data and find the optimal parameters\n",
    "grid_obj = grid_obj.fit(X_train,y_train)\n",
    "\n",
    "# Get the estimator\n",
    "clf = grid_obj.best_estimator_\n",
    "\n",
    "# Report the final F1 score for training and testing after parameter tuning\n",
    "print \"Tuned model has a training F1 score of {:.4f}.\".format(predict_labels(clf, X_train, y_train))\n",
    "print \"Tuned model has a testing F1 score of {:.4f}.\".format(predict_labels(clf, X_test, y_test))"
   ]
  },
  {
   "cell_type": "markdown",
   "metadata": {},
   "source": [
    "### Question 5 - Final F<sub>1</sub> Score\n",
    "*What is the final model's F<sub>1</sub> score for training and testing? How does that score compare to the untuned model?*"
   ]
  },
  {
   "cell_type": "markdown",
   "metadata": {},
   "source": [
    "**Answer: **\n",
    "\n",
    "~~The final F1 train score is 0.8406 and F1 test score is 0.8000. This is an improvement of 0.02 from the untuned model which is an *improvement of 2.5%* (0.02/0.78)~~\n",
    "\n",
    "**Update 2:**\n",
    "\n",
    "The final training score is 0.8539 and test score is 0.8138. There is no improvement from the untuned model.\n",
    "\n",
    "Even after trying to fit the data to many parameters, I could not increase the prediction accuracy over the default values for parameters. It either decreased or remained the same amount of test-set F1 score."
   ]
  },
  {
   "cell_type": "markdown",
   "metadata": {},
   "source": [
    "> **Note**: Once you have completed all of the code implementations and successfully answered each question above, you may finalize your work by exporting the iPython Notebook as an HTML document. You can do this by using the menu above and navigating to  \n",
    "**File -> Download as -> HTML (.html)**. Include the finished document along with this notebook as your submission."
   ]
  },
  {
   "cell_type": "code",
   "execution_count": null,
   "metadata": {
    "collapsed": true
   },
   "outputs": [],
   "source": []
  },
  {
   "cell_type": "code",
   "execution_count": null,
   "metadata": {
    "collapsed": true
   },
   "outputs": [],
   "source": []
  }
 ],
 "metadata": {
  "kernelspec": {
   "display_name": "Python 2",
   "language": "python",
   "name": "python2"
  },
  "language_info": {
   "codemirror_mode": {
    "name": "ipython",
    "version": 2
   },
   "file_extension": ".py",
   "mimetype": "text/x-python",
   "name": "python",
   "nbconvert_exporter": "python",
   "pygments_lexer": "ipython2",
   "version": "2.7.11"
  }
 },
 "nbformat": 4,
 "nbformat_minor": 0
}
